{
 "cells": [
  {
   "cell_type": "code",
   "execution_count": 1,
   "id": "38aef694",
   "metadata": {},
   "outputs": [],
   "source": [
    "import requests\n",
    "from bs4 import BeautifulSoup"
   ]
  },
  {
   "cell_type": "code",
   "execution_count": 2,
   "id": "cb61b10a",
   "metadata": {},
   "outputs": [],
   "source": [
    "HEADERS = ({'User-Agent':\n",
    "'Mozilla/5.0 (Windows NT 10.0; Win64; x64) \\\n",
    "AppleWebKit/537.36 (KHTML, like Gecko) \\\n",
    "Chrome/90.0.4430.212 Safari/537.36',\n",
    "'Accept-Language': 'en-US, en;q=0.5'})\n"
   ]
  },
  {
   "cell_type": "code",
   "execution_count": 3,
   "id": "3b0e9935",
   "metadata": {},
   "outputs": [],
   "source": [
    "def getdata(site_url):\n",
    "  res = requests.get(site_url, headers=HEADERS)\n",
    "  return res.text"
   ]
  },
  {
   "cell_type": "code",
   "execution_count": 4,
   "id": "74ea6674",
   "metadata": {},
   "outputs": [],
   "source": [
    "def gethtml(site_url):\n",
    "\n",
    "  data = getdata(site_url)\n",
    "  soup = BeautifulSoup(data, 'html.parser')\n",
    "\n",
    "  return (soup)\n"
   ]
  },
  {
   "cell_type": "code",
   "execution_count": 5,
   "id": "29e330bf",
   "metadata": {},
   "outputs": [],
   "source": [
    "site_url = \"https://www.amazon.in/Columbia-Mens-wind-\\\n",
    "resistant-Glove/dp/B0772WVHPS/?_encoding=UTF8&pd_rd\\\n",
    "_w=d9RS9&pf_rd_p=3d2ae0df-d986-4d1d-8c95-aa25d2ade606&pf\\\n",
    "_rd_r=7MP3ZDYBBV88PYJ7KEMJ&pd_rd_r=550bec4d-5268-41d5-\\\n",
    "87cb-8af40554a01e&pd_rd_wg=oy8v8&ref_=pd_gw_cr_cartx&th=1\""
   ]
  },
  {
   "cell_type": "code",
   "execution_count": 6,
   "id": "3ed41da7",
   "metadata": {},
   "outputs": [],
   "source": [
    "soup = gethtml(site_url)\n"
   ]
  },
  {
   "cell_type": "code",
   "execution_count": 7,
   "id": "825c2f74",
   "metadata": {},
   "outputs": [],
   "source": [
    "def getCustomerName(soup):\n",
    "\n",
    " data_string = \"\"\n",
    " custumer_list = []"
   ]
  },
  {
   "cell_type": "code",
   "execution_count": 8,
   "id": "f699a677",
   "metadata": {},
   "outputs": [
    {
     "name": "stdout",
     "output_type": "stream",
     "text": [
      "['Pavan H', 'Amaze', 'Amaze', 'Alexey', 'Charl', 'Robert', 'Deanna S.', 'D. Kong']\n"
     ]
    }
   ],
   "source": [
    "def getCustomerName(soup):\n",
    "\n",
    " data_string = \"\"\n",
    " custumer_list = []\n",
    "\n",
    " for item in soup.find_all(\"span\", class_=\"a-profile-name\"):\n",
    "    data_string = data_string + item.get_text()\n",
    "    custumer_list.append(data_string)\n",
    "    data_string = \"\"\n",
    " return custumer_list\n",
    "\n",
    "\n",
    "custumer_res = getCustomerName(soup)\n",
    "print(custumer_res)"
   ]
  },
  {
   "cell_type": "code",
   "execution_count": null,
   "id": "3ad06bf0",
   "metadata": {},
   "outputs": [],
   "source": []
  },
  {
   "cell_type": "code",
   "execution_count": null,
   "id": "20e1e142",
   "metadata": {},
   "outputs": [],
   "source": []
  }
 ],
 "metadata": {
  "kernelspec": {
   "display_name": "Python 3 (ipykernel)",
   "language": "python",
   "name": "python3"
  },
  "language_info": {
   "codemirror_mode": {
    "name": "ipython",
    "version": 3
   },
   "file_extension": ".py",
   "mimetype": "text/x-python",
   "name": "python",
   "nbconvert_exporter": "python",
   "pygments_lexer": "ipython3",
   "version": "3.9.13"
  }
 },
 "nbformat": 4,
 "nbformat_minor": 5
}
